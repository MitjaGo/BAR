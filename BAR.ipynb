import pandas as pd

############nov df LOS ###################!!!!!!!!!!!!!!!!!!!!!!!!!!!!!!!!!!!!!!!!!!!!!!!!!!

gsheetid = "15HJ7wxyUmo-gcl5_y1M9gl4Ti-JSsYEJZCjoI76s-Xk"
sheet_name = "ApartmajiAdria"

gsheet_url = "https://docs.google.com/spreadsheets/d/{}/gviz/tq?tqx=out:csv&sheet={}".format(gsheetid, sheet_name)

gsheet_url

df = pd.read_csv(gsheet_url)

#string BAR, ki se doda k številki v celici

df['BAR'] = df['BAR'].apply(lambda x: f"BAR{x}")

#####################################

#Številka hotela, ki se doda v vrstico

import numpy as np
df['ApartmajiAdria'] = 1001011
df.head()

####################################

#Številka, ki jo zahteva PHOBS

import numpy as np
df['nicla'] = 0
df.head()

######################

#iz PHOBSA , YIELD

import numpy as np
df['LOS'] = 16283
df.head()

########################

df['LOS'] = df['LOS'].apply(lambda x: f"YIELD{x}")

#vrstni red tabelice- heading
vrstice_imena1noc = ['ApartmajiAdria','Datum','nicla','BAR','LOS']
df = df.reindex(columns=vrstice_imena1noc)

df.columns = ['Apartmaji Adria','Datum','nicla','BAR','Yield']

#print(df.to_string(index=False, header=True))


#df.to_csv (r'C:\Users\Uporabnik\Desktop\PHOBS\NEW\GHB.csv', index = False, header=False)

<div style="clear: both;">
  <div style="float: right; margin-right 1em;">
    <img src="https://www.sava-hotels-resorts.com/si/files/default/grafika/novi/Sava-Hotels-&-Resorts_prim_pozitiv.jpg" alt="">
  </div>
  <div>
      <h2><b>EXPORT</b>4PHOBS</h2>
    <p>Generator csv datoteke za vnos BAR cenikov v Phobs.</p>
  </div>
</div>




<b>[ODPRI UREJEVALNIK BAR](https://docs.google.com/spreadsheets/d/15HJ7wxyUmo-gcl5_y1M9gl4Ti-JSsYEJZCjoI76s-Xk/edit?gid=1385640257#gid=1385640257)</b>

<br>
<button class="alert alert-block alert-success"onClick="window.location.href=window.location.href"><b>Osveži podatke ko vneseš v UREJEVALNIK BAR<b><i></button>

<div class="alert alert-block alert-info">

import ipywidgets as widgets
from google.colab import files

a1 = widgets.Button(description="Apartmaji Adria", layout=widgets.Layout(width="33%"))
a2 = widgets.Button(description="Standard Mobile Homes", layout=widgets.Layout(width="33%"))
a3 = widgets.Button(description="Premium Mobile Homes", layout=widgets.Layout(width="33%"))
a4 = widgets.Button(description="Hotel Convent", layout=widgets.Layout(width="33%"))
a5 = widgets.Button(description="Olive Suites", layout=widgets.Layout(width="33%"))
a6 = widgets.Button(description="Vile brez balkona", layout=widgets.Layout(width="33%"))
a7 = widgets.Button(description="Vile z balkonom", layout=widgets.Layout(width="33%"))


h1 = widgets.HBox(children=[a1,a2,a3])
h1

h2 = widgets.HBox(children=[a4,a5,a6])
h2

h3 = widgets.HBox(children=[a7])
h3

h4 = widgets.VBox(children=[h1,h2,h3])
h4

from IPython.display import display
output = widgets.Output()
display(h4, output)

def on_button_clicked(b):
    with output:
        print("CSV file za Apartmaji Adria je ustvarjen. ")
        df.to_csv ('Apartmaji-Adria-4-Phobs.csv', index=None, header=None)
        files.download('Apartmaji-Adria-4-Phobs.csv')
a1.on_click(on_button_clicked)

def on_button_clicked(b):
    with output:
        print("CSV file za Standard Mobile Homes je ustvarjen. ")
        df1.to_csv ('Standard-Mobile-Homes-4-Phobs.csv', index=None, header=None)
        files.download('Standard-Mobile-Homes-4-Phobs.csv')
a2.on_click(on_button_clicked)

def on_button_clicked(b):
    with output:
        print("CSV file za Premium Mobile Homes je ustvarjen. ")
        df2.to_csv ('Premium-Mobile-Homes-4-Phobs.csv', index=None, header=None)
        files.download('Premium-Mobile-Homes-4-Phobs')
a3.on_click(on_button_clicked)

def on_button_clicked(b):
    with output:
        print("CSV file za Hotel Convent je ustvarjen. ")
        df3.to_csv ('Hotel-Convent-4-Phobs.csv', index=None, header=None)
        files.download('Hotel-Convent-4-Phobs.csv')
a4.on_click(on_button_clicked)

def on_button_clicked(b):
    with output:
        print("CSV file za Olive Suites je ustvarjen. ")
        df4.to_csv ('Olive Suites-4-Phobs.csv', index=None, header=None)
        files.download('Olive Suites-4-Phobs.csv')
a5.on_click(on_button_clicked)

def on_button_clicked(b):
    with output:
        print("CSV file za Vile brez balkona je ustvarjen. ")
        df5.to_csv ('Vile-brez-balkona-4-Phobs.csv', index=None, header=None)
        files.download('Vile-brez-balkona-4-Phobs.csv')
a6.on_click(on_button_clicked)



def on_button_clicked(b):
    with output:
        print("CSV file za Vile z balkonom je ustvarjen. ")
        df6.to_csv ('Vile-z-balkonom-4-Phobs.csv', index=None, header=None)
        files.download('Vile-z-balkonom-4-Phobs.csv')
a7.on_click(on_button_clicked)


import ipywidgets as made
made.HTML(
    value="by M.Goja",
)
