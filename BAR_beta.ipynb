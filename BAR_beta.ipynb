{
  "nbformat": 4,
  "nbformat_minor": 0,
  "metadata": {
    "colab": {
      "provenance": [],
      "authorship_tag": "ABX9TyOFfumS1sxcfgnaQqZYSTA0",
      "include_colab_link": true
    },
    "kernelspec": {
      "name": "python3",
      "display_name": "Python 3"
    },
    "language_info": {
      "name": "python"
    }
  },
  "cells": [
    {
      "cell_type": "markdown",
      "metadata": {
        "id": "view-in-github",
        "colab_type": "text"
      },
      "source": [
        "<a href=\"https://colab.research.google.com/github/MitjaGo/BAR/blob/main/BAR_beta.ipynb\" target=\"_parent\"><img src=\"https://colab.research.google.com/assets/colab-badge.svg\" alt=\"Open In Colab\"/></a>"
      ]
    },
    {
      "cell_type": "code",
      "source": [
        "import pandas as pd\n",
        "import ipywidgets as widgets\n",
        "from IPython.display import display, HTML\n",
        "\n",
        "output = widgets.Output()\n",
        "\n",
        "# --- Function to prepare PHOBS dataframe ---\n",
        "def prepare_phobs_csv(df, hotel_id, los_code, hotel_name):\n",
        "    df['BAR'] = df['BAR'].apply(lambda x: f\"BAR{x}\")\n",
        "    df[hotel_name] = hotel_id\n",
        "    df['nicla'] = 0\n",
        "    df['LOS'] = f\"YIELD{los_code}\"\n",
        "    cols = [hotel_name, 'Datum', 'nicla', 'BAR', 'LOS']\n",
        "    df = df.reindex(columns=cols)\n",
        "    df.columns = [hotel_name, 'Datum', 'nicla', 'BAR', 'Yield']\n",
        "    return df\n",
        "\n",
        "# --- Function to create a download button that auto-downloads CSV ---\n",
        "def create_download_button(df, filename, description):\n",
        "    button = widgets.Button(description=description, button_style='info', layout=widgets.Layout(width=\"33%\"))\n",
        "\n",
        "    def on_click(b):\n",
        "        with output:\n",
        "            output.clear_output()\n",
        "            csv_bytes = df.to_csv(index=False, header=False).encode()\n",
        "            b64 = base64.b64encode(csv_bytes).decode()\n",
        "            # JavaScript to auto-click a hidden download link\n",
        "            js = f\"\"\"\n",
        "            <a id=\"download_link\" download=\"{filename}.csv\" href=\"data:text/csv;base64,{b64}\"></a>\n",
        "            <script>\n",
        "                document.getElementById('download_link').click();\n",
        "            </script>\n",
        "            \"\"\"\n",
        "            display(HTML(js))\n",
        "\n",
        "    button.on_click(on_click)\n",
        "    return button\n",
        "\n",
        "# --- Define Google Sheet IDs and sheets ---\n",
        "hotels = [\n",
        "    (\"ApartmajiAdria\", 1001011, 16283),\n",
        "    (\"StandardMobileHomes\", 1001012, 16552),\n",
        "    (\"PremiumMobileHomes\", 1001011, 16242),\n",
        "    (\"HotelConvent\", 1001011, 16355),\n",
        "    (\"OliveSuites\", 1001011, 16244),\n",
        "    (\"Vilebrezbalkona\", 1001011, 16284),\n",
        "    (\"Vilezbalkonom\", 1001011, 15985)\n",
        "]\n",
        "\n",
        "gsheet_id = \"15HJ7wxyUmo-gcl5_y1M9gl4Ti-JSsYEJZCjoI76s-Xk\"\n",
        "\n",
        "# --- Load data and create buttons ---\n",
        "import base64\n",
        "\n",
        "buttons = []\n",
        "for hotel_name, hotel_id, los_code in hotels:\n",
        "    sheet_url = f\"https://docs.google.com/spreadsheets/d/{gsheet_id}/gviz/tq?tqx=out:csv&sheet={hotel_name}\"\n",
        "    df = pd\n"
      ],
      "metadata": {
        "id": "Qxz2Jv4TuYIS"
      },
      "execution_count": 2,
      "outputs": []
    }
  ]
}