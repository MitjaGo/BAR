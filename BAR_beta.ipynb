{
  "nbformat": 4,
  "nbformat_minor": 0,
  "metadata": {
    "colab": {
      "provenance": [],
      "authorship_tag": "ABX9TyMWBEWCKBbjZH9F3+gFKlWo",
      "include_colab_link": true
    },
    "kernelspec": {
      "name": "python3",
      "display_name": "Python 3"
    },
    "language_info": {
      "name": "python"
    }
  },
  "cells": [
    {
      "cell_type": "markdown",
      "metadata": {
        "id": "view-in-github",
        "colab_type": "text"
      },
      "source": [
        "<a href=\"https://colab.research.google.com/github/MitjaGo/BAR/blob/main/BAR_beta.ipynb\" target=\"_parent\"><img src=\"https://colab.research.google.com/assets/colab-badge.svg\" alt=\"Open In Colab\"/></a>"
      ]
    },
    {
      "cell_type": "markdown",
      "source": [
        "<div style=\"clear: both;\">\n",
        "<div>\n",
        "      <h2><b>EXPORT</b>4PHOBS</h2>\n",
        "     <img src=\"https://scontent.flju1-1.fna.fbcdn.net/v/t39.30808-1/538848259_1373858921407395_3734947029332493437_n.jpg?stp=c221.221.1034.1034a_dst-jpg_s480x480_tt6&_nc_cat=110&ccb=1-7&_nc_sid=2d3e12&_nc_ohc=nLyDiOB5EM8Q7kNvwEw-9Xf&_nc_oc=Adm0RsJmASURcGiXVvWUyJRIrypsmZsQEM5WYIv2uG8ZFEp5f1wteeqopUsLj6bPgFk&_nc_zt=24&_nc_ht=scontent.flju1-1.fna&_nc_gid=J2ABA-OjzFAu8lGZyNEJ3g&oh=00_AffBA_KZ8YxYLhFZ2GHdTmTHnUp2bG6tZWV73qMxnj66Qg&oe=68FAB123\" width=\"180\" alt=\"\">\n",
        "  </div>\n",
        "  </div>\n",
        "  <div>\n",
        "    <p>Generator za BAR cenike</p>\n",
        "  </div>\n",
        "</div>\n",
        "\n"
      ],
      "metadata": {
        "id": "qyVPSKyIjcdT"
      }
    },
    {
      "cell_type": "code",
      "source": [
        "import pandas as pd\n",
        "import ipywidgets as widgets\n",
        "from IPython.display import display, HTML\n",
        "import base64\n",
        "\n",
        "output = widgets.Output()\n",
        "\n",
        "# --- Function to prepare PHOBS dataframe ---\n",
        "def prepare_phobs_csv(df, hotel_id, los_code, hotel_name):\n",
        "    df['BAR'] = df['BAR'].apply(lambda x: f\"BAR{x}\")\n",
        "    df[hotel_name] = hotel_id\n",
        "    df['nicla'] = 0\n",
        "    df['LOS'] = f\"YIELD{los_code}\"\n",
        "    cols = [hotel_name, 'Datum', 'nicla', 'BAR', 'LOS']\n",
        "    df = df.reindex(columns=cols)\n",
        "    df.columns = [hotel_name, 'Datum', 'nicla', 'BAR', 'Yield']\n",
        "    return df\n",
        "\n",
        "# --- Function to create a download button with timed confirmation ---\n",
        "def create_download_button(df, filename, description):\n",
        "    button = widgets.Button(description=description, button_style='info', layout=widgets.Layout(width=\"33%\"))\n",
        "\n",
        "    def on_click(b):\n",
        "        with output:\n",
        "            output.clear_output()\n",
        "            display(HTML(f\"<b id='download_msg'>{description}</b>: Your CSV is downloading...\"))\n",
        "            csv_bytes = df.to_csv(index=False, header=False).encode()\n",
        "            b64 = base64.b64encode(csv_bytes).decode()\n",
        "\n",
        "            # JavaScript: auto-download + remove message after 3 seconds\n",
        "            js = f\"\"\"\n",
        "            <a id=\"download_link\" download=\"{filename}.csv\" href=\"data:text/csv;base64,{b64}\"></a>\n",
        "            <script>\n",
        "                document.getElementById('download_link').click();\n",
        "                setTimeout(function() {{\n",
        "                    var msg = document.getElementById('download_msg');\n",
        "                    if(msg) {{ msg.remove(); }}\n",
        "                }}, 3000);\n",
        "            </script>\n",
        "            \"\"\"\n",
        "            display(HTML(js))\n",
        "\n",
        "    button.on_click(on_click)\n",
        "    return button\n",
        "\n",
        "# --- Define Google Sheet IDs and sheets ---\n",
        "hotels = [\n",
        "    (\"ApartmajiAdria\", 1001011, 16283),\n",
        "    (\"StandardMobileHomes\", 1001012, 16552),\n",
        "    (\"PremiumMobileHomes\", 1001011, 16242),\n",
        "    (\"HotelConvent\", 1001011, 16355),\n",
        "    (\"OliveSuites\", 1001011, 16244),\n",
        "    (\"Vilebrezbalkona\", 1001011, 16284),\n",
        "    (\"Vilezbalkonom\", 1001011, 15985)\n",
        "]\n",
        "\n",
        "gsheet_id = \"15HJ7wxyUmo-gcl5_y1M9gl4Ti-JSsYEJZCjoI76s-Xk\"\n",
        "\n",
        "# --- Load data and create buttons ---\n",
        "buttons = []\n",
        "for hotel_name, hotel_id, los_code in hotels:\n",
        "    sheet_url = f\"https://docs.google.com/spreadsheets/d/{gsheet_id}/gviz/tq?tqx=out:csv&sheet={hotel_name}\"\n",
        "    df = pd.read_csv(sheet_url)\n",
        "    df = prepare_phobs_csv(df, hotel_id, los_code, hotel_name)\n",
        "    button = create_download_button(df, f\"{hotel_name}-4-Phobs\", hotel_name.replace(\"_\", \" \"))\n",
        "    buttons.append(button)\n",
        "\n",
        "# --- Layout buttons ---\n",
        "h1 = widgets.HBox(buttons[0:3])\n",
        "h2 = widgets.HBox(buttons[3:6])\n",
        "h3 = widgets.HBox(buttons[6:])\n",
        "vbox = widgets.VBox([h1, h2, h3])\n",
        "\n",
        "display(vbox, output)\n"
      ],
      "metadata": {
        "id": "KxrVFXi4v5fQ"
      },
      "execution_count": null,
      "outputs": []
    },
    {
      "cell_type": "markdown",
      "source": [],
      "metadata": {
        "id": "-wWFvCZJwNFo"
      }
    }
  ]
}