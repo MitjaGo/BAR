{
  "nbformat": 4,
  "nbformat_minor": 0,
  "metadata": {
    "colab": {
      "provenance": [],
      "authorship_tag": "ABX9TyOCNcFAC/nHQtUflY+58TtK"
    },
    "kernelspec": {
      "name": "python3",
      "display_name": "Python 3"
    },
    "language_info": {
      "name": "python"
    }
  },
  "cells": [
    {
      "cell_type": "markdown",
      "source": [
        "<div style=\"clear: both;\">\n",
        "<div>\n",
        "      <h2><b>EXPORT</b>4PHOBS</h2>\n",
        "     <img src=\"https://scontent.flju1-1.fna.fbcdn.net/v/t39.30808-1/538848259_1373858921407395_3734947029332493437_n.jpg?stp=c221.221.1034.1034a_dst-jpg_s480x480_tt6&_nc_cat=110&ccb=1-7&_nc_sid=2d3e12&_nc_ohc=nLyDiOB5EM8Q7kNvwEw-9Xf&_nc_oc=Adm0RsJmASURcGiXVvWUyJRIrypsmZsQEM5WYIv2uG8ZFEp5f1wteeqopUsLj6bPgFk&_nc_zt=24&_nc_ht=scontent.flju1-1.fna&_nc_gid=J2ABA-OjzFAu8lGZyNEJ3g&oh=00_AffBA_KZ8YxYLhFZ2GHdTmTHnUp2bG6tZWV73qMxnj66Qg&oe=68FAB123\" width=\"180\" alt=\"\">\n",
        "  </div>\n",
        "  </div>\n",
        "  <div>\n",
        "    <p>Generator za BAR cenike</p>\n",
        "  </div>\n",
        "</div>\n",
        "\n"
      ],
      "metadata": {
        "id": "qyVPSKyIjcdT"
      }
    },
    {
      "cell_type": "code",
      "source": [],
      "metadata": {
        "id": "Wi0_XTq2J_E0"
      },
      "execution_count": null,
      "outputs": []
    },
    {
      "cell_type": "code",
      "source": [
        "import pandas as pd\n",
        "import ipywidgets as widgets\n",
        "from IPython.display import display, HTML\n",
        "import base64\n",
        "import urllib.parse\n",
        "import time\n",
        "\n",
        "output = widgets.Output()\n",
        "\n",
        "# --- Function to prepare PHOBS dataframe ---\n",
        "def prepare_phobs_csv(df, hotel_id, los_code):\n",
        "    if 'BAR' not in df.columns:\n",
        "        df['BAR'] = 120  # default BAR value\n",
        "\n",
        "    df['BAR'] = df['BAR'].apply(lambda x: f\"BAR{x}\")\n",
        "    df['Hotel_ID'] = hotel_id\n",
        "    df['nicla'] = 0\n",
        "    df['Yield'] = f\"YIELD{los_code}\"\n",
        "\n",
        "    # Ensure 'Datum' exists\n",
        "    if 'Datum' not in df.columns:\n",
        "        df['Datum'] = pd.Timestamp.today().strftime('%Y-%m-%d')\n",
        "\n",
        "    df = df[['Hotel_ID', 'Datum', 'nicla', 'BAR', 'Yield']]\n",
        "    return df\n",
        "\n",
        "# --- Function to create a download button ---\n",
        "def create_download_button(df, filename, description):\n",
        "    button = widgets.Button(\n",
        "        description=description,\n",
        "        button_style='info',\n",
        "        layout=widgets.Layout(width=\"33%\")\n",
        "    )\n",
        "\n",
        "    def on_click(b):\n",
        "        with output:\n",
        "            output.clear_output()\n",
        "            display(HTML(f\"<b>{description}</b> CSV download started...\"))\n",
        "            csv_bytes = df.to_csv(index=False, header=False).encode()\n",
        "            b64 = base64.b64encode(csv_bytes).decode()\n",
        "\n",
        "            # JS with fallback link\n",
        "            js = f\"\"\"\n",
        "            <a download=\"{filename}.csv\" href=\"data:text/csv;base64,{b64}\" id=\"download_link\">Download</a>\n",
        "            <script>\n",
        "            const link = document.getElementById('download_link');\n",
        "            link.click();\n",
        "            setTimeout(() => link.remove(), 5000);\n",
        "            </script>\n",
        "            \"\"\"\n",
        "            display(HTML(js))\n",
        "\n",
        "    button.on_click(on_click)\n",
        "    return button\n",
        "\n",
        "# --- Load master PHOBS sheet ---\n",
        "gsheet_id = \"15HJ7wxyUmo-gcl5_y1M9gl4Ti-JSsYEJZCjoI76s-Xk\"\n",
        "master_sheet_url = f\"https://docs.google.com/spreadsheets/d/{gsheet_id}/gviz/tq?tqx=out:csv&sheet=PHOBS\"\n",
        "master_df = pd.read_csv(master_sheet_url)\n",
        "\n",
        "# Generate hotels list\n",
        "hotels = [(row['Hotel_Name'], row['Hotel_ID'], row['YIELD_Code']) for _, row in master_df.iterrows()]\n",
        "\n",
        "buttons = []\n",
        "with output:\n",
        "    display(HTML(\"<b>Loading hotel sheets...</b>\"))\n",
        "\n",
        "# --- Load each hotel's sheet and create buttons ---\n",
        "for hotel_name, hotel_id, los_code in hotels:\n",
        "    try:\n",
        "        sheet_name_encoded = urllib.parse.quote(hotel_name)\n",
        "        sheet_url = f\"https://docs.google.com/spreadsheets/d/{gsheet_id}/gviz/tq?tqx=out:csv&sheet={sheet_name_encoded}\"\n",
        "        df = pd.read_csv(sheet_url)\n",
        "        df = prepare_phobs_csv(df, hotel_id, los_code)\n",
        "        button = create_download_button(df, f\"{hotel_name}-PHOBS\", hotel_name.replace(\"_\", \" \"))\n",
        "        buttons.append(button)\n",
        "    except Exception as e:\n",
        "        with output:\n",
        "            display(HTML(f\"<b style='color:red'>Failed to load sheet for {hotel_name}:</b> {e}\"))\n",
        "\n",
        "# --- Layout buttons ---\n",
        "rows = [widgets.HBox(buttons[i:i+3]) for i in range(0, len(buttons), 3)]\n",
        "vbox = widgets.VBox(rows)\n",
        "\n",
        "output.clear_output()\n",
        "display(vbox, output)\n"
      ],
      "metadata": {
        "id": "wME3uTw6RnQk"
      },
      "execution_count": null,
      "outputs": []
    }
  ]
}